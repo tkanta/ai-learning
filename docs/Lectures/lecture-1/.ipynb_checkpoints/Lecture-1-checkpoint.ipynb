{
 "cells": [
  {
   "cell_type": "markdown",
   "metadata": {},
   "source": [
    "Lecture-1:\n",
    "================================================================\n",
    "In this lesson you will learn the basics of Python and you will write your first Python program:\n"
   ]
  },
  {
   "cell_type": "code",
   "execution_count": 1,
   "metadata": {},
   "outputs": [
    {
     "name": "stdout",
     "output_type": "stream",
     "text": [
      "['False', 'None', 'True', 'and', 'as', 'assert', 'async', 'await', 'break', 'class', 'continue', 'def', 'del', 'elif', 'else', 'except', 'finally', 'for', 'from', 'global', 'if', 'import', 'in', 'is', 'lambda', 'nonlocal', 'not', 'or', 'pass', 'raise', 'return', 'try', 'while', 'with', 'yield']\n"
     ]
    }
   ],
   "source": [
    "#To extract all keywords in python 3.7 use the below code\n",
    "\n",
    "import keyword as kw\n",
    "\n",
    "print(kw.kwlist)"
   ]
  },
  {
   "cell_type": "code",
   "execution_count": null,
   "metadata": {},
   "outputs": [],
   "source": [
    "# Number of keywords are \n",
    "print(\"keywords in python 3.7 are:\", len(keyword.kwlist))"
   ]
  },
  {
   "cell_type": "markdown",
   "metadata": {},
   "source": [
    "# 2. Identifiers\n",
    "\n",
    "Identifiers (also referred to as names) is given to entities like class, functions, variables etc. in Python. It helps differentiating one entity from another.\n",
    "\n",
    "Rules for Writing Identifiers:\n",
    "\n",
    "1. Identifiers can be a combination of letters in lowercase (a to z) or uppercase (A to Z) or digits (0 to 9) or an underscore (_).\n",
    "\n",
    "2. An identifier cannot start with a digit. <i>'99somename'</i> is invalid, but <i>'somename99'</i> is perfectly fine.\n",
    "\n",
    "3. Keywords cannot be used as identifiers.\n"
   ]
  },
  {
   "cell_type": "code",
   "execution_count": null,
   "metadata": {},
   "outputs": [],
   "source": [
    "somename99 = 1007777777777777777777777777777777777777777777777777777777777777777777777777777777777777888888888888888888888888\n",
    "print(somename99)"
   ]
  },
  {
   "cell_type": "code",
   "execution_count": null,
   "metadata": {},
   "outputs": [],
   "source": [
    "break = 1             # Cannot use keyword as identifiers"
   ]
  },
  {
   "cell_type": "code",
   "execution_count": null,
   "metadata": {},
   "outputs": [],
   "source": [
    "hello@ = 10           #can't use special symbols as an identifier"
   ]
  },
  {
   "cell_type": "code",
   "execution_count": null,
   "metadata": {},
   "outputs": [],
   "source": [
    "hello = 1\n",
    "print(\"hello: \",hello) # '' \"\"\n",
    "\n",
    "hello123 = 1\n",
    "print('hello123: ',hello123)\n",
    "\n",
    "hello_1 = 1\n",
    "print('hello_1: ',hello_1)"
   ]
  },
  {
   "cell_type": "code",
   "execution_count": null,
   "metadata": {},
   "outputs": [],
   "source": [
    "print('hello: ',hello,hello123,hello_1) # hello_1 = 1 helloo_2 = 2 ''' c''' == docstring"
   ]
  },
  {
   "cell_type": "markdown",
   "metadata": {},
   "source": [
    "# 3. Comments in Python\n",
    "\n",
    "A comment may appear at the start of a line or following whitespace or code, but not within a string literal.<br/>\n",
    "A hash character within a string literal is just a hash character.<br/>\n",
    "Comments are lines that are ignored by compilers and interpreters. <br/>\n",
    "### This is one of the best way to convey the idea behind the code and people reusing your code can easily make sense of your code"
   ]
  },
  {
   "cell_type": "markdown",
   "metadata": {},
   "source": [
    "### Single line comment"
   ]
  },
  {
   "cell_type": "code",
   "execution_count": null,
   "metadata": {},
   "outputs": [],
   "source": [
    "# This is a single line comment. Has no effect on the code below\n",
    "abd = 10"
   ]
  },
  {
   "cell_type": "markdown",
   "metadata": {},
   "source": [
    "### Multi line comment"
   ]
  },
  {
   "cell_type": "code",
   "execution_count": null,
   "metadata": {},
   "outputs": [],
   "source": [
    "# You can write multiple lines of comment by putting a '#' at the beginning\n",
    "# You can write multiple lines of comment by putting a '#' at the beginning\n",
    "# You can write multiple lines of comment by putting a '#' at the beginning"
   ]
  },
  {
   "cell_type": "code",
   "execution_count": null,
   "metadata": {},
   "outputs": [],
   "source": [
    "'''\n",
    "A better option to write multi line comment is by adding all your \n",
    "text between a set of 3-single or 3-double quotes. Like we have done here\n",
    "'''"
   ]
  },
  {
   "cell_type": "code",
   "execution_count": null,
   "metadata": {},
   "outputs": [],
   "source": [
    "\"\"\"\n",
    "A better option to write multi line comment is by adding all your \n",
    "text between a set of 3-single or 3-double quotes. Like we have done here\n",
    "\"\"\""
   ]
  },
  {
   "cell_type": "markdown",
   "metadata": {},
   "source": [
    "### Docstring\n",
    "\n",
    "Docstring is short for documentation string.<p/>\n",
    "\n",
    "String that occurs as the first statement in a module, function, class, <br/>\n",
    "or method definition. Used to define what a function/class does."
   ]
  },
  {
   "cell_type": "code",
   "execution_count": null,
   "metadata": {},
   "outputs": [],
   "source": [
    "def square(num):\n",
    "    \"\"\"\n",
    "    Function to square a number. \n",
    "    Takes one argumnet of type integer or float and then return that type value\n",
    "    \"\"\"\n",
    "    return num * num\n",
    "\n",
    "print(square(20))"
   ]
  },
  {
   "cell_type": "code",
   "execution_count": null,
   "metadata": {},
   "outputs": [],
   "source": [
    "print(square.__doc__)      # To print the docstring of a function use the __doc__ attribute of the function"
   ]
  },
  {
   "cell_type": "code",
   "execution_count": null,
   "metadata": {},
   "outputs": [],
   "source": [
    "square                     # Press shift+tab to view the docstring , tab 2 times will display more result, \n",
    "                            #and three times will display full document"
   ]
  },
  {
   "cell_type": "markdown",
   "metadata": {},
   "source": [
    "# Variables\n",
    "\n",
    "A variable is named location in memory that is used to store some data (value).\n",
    "\n",
    "The rules for writing a variable name is same as the rules for writing identifiers in Python.\n",
    "\n",
    "In Python, we simply create a varible in a fly wherever we want to create it, but note during this process we have to assign some value to the variable and python will decide the type and memory location.\n"
   ]
  },
  {
   "cell_type": "markdown",
   "metadata": {},
   "source": [
    "### Variable assignements\n",
    "We use the assignment operator (=) to assign values to a variable"
   ]
  },
  {
   "cell_type": "code",
   "execution_count": null,
   "metadata": {},
   "outputs": [],
   "source": [
    "intergerNumber = 4\n",
    "decimalNumber = 22.2\n",
    "stringVariable = \"StringValue\"\n",
    "print(intergerNumber, decimalNumber, stringVariable)"
   ]
  },
  {
   "cell_type": "markdown",
   "metadata": {},
   "source": [
    "### Multiple assignements\n",
    "Use comma to seperate the variables and their corresponding values"
   ]
  },
  {
   "cell_type": "code",
   "execution_count": null,
   "metadata": {},
   "outputs": [],
   "source": [
    "intergerNumber, decimalNumber, stringVariable = 4, 22.2, \"StringValue\"\n",
    "print(intergerNumber, decimalNumber, stringVariable)"
   ]
  },
  {
   "cell_type": "markdown",
   "metadata": {},
   "source": [
    "To initialize multiple variables with same value use 1 assignment"
   ]
  },
  {
   "cell_type": "code",
   "execution_count": null,
   "metadata": {},
   "outputs": [],
   "source": [
    "variable1=variable2=variable3 = \" All variable assigned same value \"\n",
    "print(variable1,variable2,variable3)"
   ]
  },
  {
   "cell_type": "markdown",
   "metadata": {},
   "source": [
    "### Storage Locations"
   ]
  },
  {
   "cell_type": "code",
   "execution_count": null,
   "metadata": {},
   "outputs": [],
   "source": [
    "print(id(intergerNumber))               #print address of variable: 'intergerNumber'"
   ]
  },
  {
   "cell_type": "code",
   "execution_count": null,
   "metadata": {},
   "outputs": [],
   "source": [
    "print(id(decimalNumber))               #print address of variable: 'decimalNumber'"
   ]
  },
  {
   "cell_type": "markdown",
   "metadata": {},
   "source": [
    "#### Note: \n",
    "If we define multiple variables with same value, please remember they point to the same \n",
    "    memory location. In example below \n",
    "interger1 and interger2 points to same memory location in the below example"
   ]
  },
  {
   "cell_type": "code",
   "execution_count": null,
   "metadata": {},
   "outputs": [],
   "source": [
    "interger1 = 10\n",
    "interger2 = 10\n",
    "\n",
    "print(id(interger1))   \n",
    "print(id(interger2))  "
   ]
  },
  {
   "cell_type": "markdown",
   "metadata": {},
   "source": [
    "## Data Type\n",
    "###### \n",
    "Every value in Python has a datatype. Since everything is an object in Python programming, data types are actually classes and variables are instance (object) of these classes.\n",
    "\n",
    "Below are few of the commonly used data types"
   ]
  },
  {
   "cell_type": "code",
   "execution_count": null,
   "metadata": {},
   "outputs": [],
   "source": [
    "print(type(somename99))"
   ]
  },
  {
   "cell_type": "markdown",
   "metadata": {},
   "source": [
    "#### Python Numbers\n",
    "\n",
    "Integers, floating point numbers and complex numbers falls under Python numbers category. They are defined as int, float and complex class in Python.\n",
    "We can use the type() function to know which class a variable or a value belongs to \n",
    "and the isinstance() function to check if an object belongs to a particular class. "
   ]
  },
  {
   "cell_type": "code",
   "execution_count": null,
   "metadata": {},
   "outputs": [],
   "source": [
    "data1 = 12                               # integer data type\n",
    "print(data1, \" is of type\", type(data1))\n",
    "\n",
    "data2 = 12.5                            # float data type\n",
    "print(data2, \" is of type\", type(data2))\n",
    "\n",
    "data3 = 100 + 20j                          #data type is changed to complex number\n",
    "print(data3, \" is complex number?\", isinstance(data3, complex))"
   ]
  },
  {
   "cell_type": "markdown",
   "metadata": {},
   "source": [
    "### Boolean\n",
    "Boolean represents True or False values"
   ]
  },
  {
   "cell_type": "code",
   "execution_count": null,
   "metadata": {},
   "outputs": [],
   "source": [
    "booleanVariable = True                          # 'booleanVariable' is a boolean type & True is a keyword\n",
    "print(type(booleanVariable))"
   ]
  },
  {
   "cell_type": "markdown",
   "metadata": {},
   "source": [
    "### Python Strings\n",
    "\n",
    "String is sequence of Unicode characters. We can use single quotes or double quotes to represent strings. \n",
    "Multi-line strings can be denoted using triple quotes(single/double), ''' or \"\"\". \n",
    "\n",
    "A string in Python consists of a series or <u>sequence of characters</u> - <b>letters, numbers, and special characters.</b>\n",
    "\n",
    "Strings can be indexed - often synonymously called subscripted as well.\n",
    "\n",
    "The first character of a string has the index 0."
   ]
  },
  {
   "cell_type": "code",
   "execution_count": null,
   "metadata": {},
   "outputs": [],
   "source": [
    "stringVariable = \"This is a string variable\"\n",
    "print('stringVariable is : ',stringVariable)\n",
    "print('First character in stringVariable is : ',stringVariable[0])"
   ]
  },
  {
   "cell_type": "code",
   "execution_count": null,
   "metadata": {},
   "outputs": [],
   "source": [
    "# Slicing of String variable\n",
    "print(stringVariable[0:7])\n",
    "print(stringVariable[:7])\n",
    "print(stringVariable[5:])"
   ]
  },
  {
   "cell_type": "markdown",
   "metadata": {},
   "source": [
    "## Python List\n",
    "\n",
    "List is an <u>ordered sequence</u> of items. It is one of the most used datatype in Python and is very flexible. \n",
    "\n",
    "All the items in a list do not need to be of the same type.\n",
    "\n",
    "Declaring a list is pretty straight forward. Items separated by commas are enclosed within square brackets <b>'[ ]'</b>."
   ]
  },
  {
   "cell_type": "code",
   "execution_count": null,
   "metadata": {},
   "outputs": [],
   "source": [
    "myList = [1, 2.2, \"ThirdElement\",12,24,\"More values\"]\n",
    "print(myList)  "
   ]
  },
  {
   "cell_type": "code",
   "execution_count": null,
   "metadata": {},
   "outputs": [],
   "source": [
    "print(myList[2])                     # Print an element based on its index. Index starts from 0"
   ]
  },
  {
   "cell_type": "markdown",
   "metadata": {},
   "source": [
    "Lists are mutable, which means, value of elements of a list can be changed."
   ]
  },
  {
   "cell_type": "code",
   "execution_count": null,
   "metadata": {},
   "outputs": [],
   "source": [
    "myList[2] = \"ElementThree\"\n",
    "print(myList) "
   ]
  },
  {
   "cell_type": "code",
   "execution_count": null,
   "metadata": {},
   "outputs": [],
   "source": [
    "myList.remove(2.2)                             # Remove item from a particular index\n",
    "print(myList)"
   ]
  },
  {
   "cell_type": "code",
   "execution_count": null,
   "metadata": {},
   "outputs": [],
   "source": [
    "myList.pop(2)                                 # Remove item from a particular index\n",
    "print(myList)"
   ]
  },
  {
   "cell_type": "code",
   "execution_count": null,
   "metadata": {},
   "outputs": [],
   "source": [
    "myList.append(2.2)                            # Add item at the last index\n",
    "print(myList)"
   ]
  },
  {
   "cell_type": "markdown",
   "metadata": {},
   "source": [
    "### Python Tuple\n",
    "Tuple is an <u>ordered sequence</u> of items same as list. <br/>\n",
    "The only difference is that tuples are <u>immutable</u>. <b>Tuples once created cannot be modified</b>.\n",
    "\n",
    "Tuples are used to write-protect data and are usually faster than list as it cannot change dynamically.\n",
    "\n",
    "It is defined within parentheses <b>()</b> where items are separated by commas."
   ]
  },
  {
   "cell_type": "code",
   "execution_count": null,
   "metadata": {},
   "outputs": [],
   "source": [
    "myTuple = (10,20,30,\"Text\")"
   ]
  },
  {
   "cell_type": "code",
   "execution_count": null,
   "metadata": {},
   "outputs": [],
   "source": [
    "print(myTuple[2])                 # Read elements by their corresponding index values"
   ]
  },
  {
   "cell_type": "code",
   "execution_count": null,
   "metadata": {},
   "outputs": [],
   "source": [
    "myTuple[2] = 120"
   ]
  },
  {
   "cell_type": "markdown",
   "metadata": {},
   "source": [
    "### Python Set"
   ]
  },
  {
   "cell_type": "markdown",
   "metadata": {},
   "source": [
    "Set is an <u>unordered collection</u> of unique items. <br/>\n",
    "Set is defined by values separated by comma inside curly braces <b>{ }</b>. <br/>"
   ]
  },
  {
   "cell_type": "code",
   "execution_count": null,
   "metadata": {},
   "outputs": [],
   "source": [
    "mySet = {10, 20, 30, 40, 50}\n",
    "print(mySet)"
   ]
  },
  {
   "cell_type": "code",
   "execution_count": null,
   "metadata": {},
   "outputs": [],
   "source": [
    "mySet = {10, 20, 20, 30, 30}       # Only unique values considered, duplicates removed automatically\n",
    "print(mySet)"
   ]
  },
  {
   "cell_type": "code",
   "execution_count": null,
   "metadata": {},
   "outputs": [],
   "source": [
    "print(type(mySet))                 # Check the type of the variable"
   ]
  },
  {
   "cell_type": "code",
   "execution_count": null,
   "metadata": {},
   "outputs": [],
   "source": [
    "print(mySet[0])                    # Cannot print any particular element in a set because \n",
    "                                   # it's an unorder collections of items"
   ]
  },
  {
   "cell_type": "markdown",
   "metadata": {},
   "source": [
    "### Python Dictionary"
   ]
  },
  {
   "cell_type": "markdown",
   "metadata": {},
   "source": [
    "<b>Dictionary</b> is an <u>unordered collection</u> of <b>key-value</b> pairs.\n",
    "\n",
    "It is generally used when we have a huge amount of data.<br/> \n",
    "Dictionaries are optimized for retrieving data. <br/>\n",
    "We must know the <b>key</b> to retrieve the <b>value</b>.\n",
    "\n",
    "In Python, dictionaries are defined within curly braces <b>{}</b> <br/>\n",
    "with each item being a pair in the form <b>key:value</b>. <br/>\n",
    "<b>Key and value</b> can be of <u>any type</u>."
   ]
  },
  {
   "cell_type": "code",
   "execution_count": null,
   "metadata": {},
   "outputs": [],
   "source": [
    "myDictionary = {'key1': \"value1\", 'key2': \"value2\", 'key3': \"value3\",}\n",
    "print(myDictionary['key2'])"
   ]
  },
  {
   "cell_type": "code",
   "execution_count": null,
   "metadata": {},
   "outputs": [],
   "source": [
    "myDictionary['key2'] = \"value2.2\"\n",
    "print(myDictionary)"
   ]
  },
  {
   "cell_type": "code",
   "execution_count": null,
   "metadata": {},
   "outputs": [],
   "source": [
    "myDictionary[\"key4\"] = \"value4\"\n",
    "print(myDictionary)"
   ]
  },
  {
   "cell_type": "markdown",
   "metadata": {},
   "source": [
    "# Conversion between Datatypes"
   ]
  },
  {
   "cell_type": "markdown",
   "metadata": {},
   "source": [
    "To convert between different data types use different type conversion functions like <b>int(), float(), str()</b> etc."
   ]
  },
  {
   "cell_type": "code",
   "execution_count": null,
   "metadata": {},
   "outputs": [],
   "source": [
    "int(5.5)"
   ]
  },
  {
   "cell_type": "code",
   "execution_count": null,
   "metadata": {},
   "outputs": [],
   "source": [
    "float(5)"
   ]
  },
  {
   "cell_type": "markdown",
   "metadata": {},
   "source": [
    "Conversion to and from string must contain compatible values."
   ]
  },
  {
   "cell_type": "code",
   "execution_count": null,
   "metadata": {},
   "outputs": [],
   "source": [
    "str(5)"
   ]
  },
  {
   "cell_type": "code",
   "execution_count": null,
   "metadata": {},
   "outputs": [],
   "source": [
    "str(5.5)"
   ]
  },
  {
   "cell_type": "code",
   "execution_count": null,
   "metadata": {},
   "outputs": [],
   "source": [
    "int('5')"
   ]
  },
  {
   "cell_type": "code",
   "execution_count": null,
   "metadata": {},
   "outputs": [],
   "source": [
    "int('5.5')"
   ]
  },
  {
   "cell_type": "code",
   "execution_count": null,
   "metadata": {},
   "outputs": [],
   "source": [
    "float('5.5')"
   ]
  },
  {
   "cell_type": "code",
   "execution_count": null,
   "metadata": {},
   "outputs": [],
   "source": [
    "float('5')"
   ]
  },
  {
   "cell_type": "code",
   "execution_count": null,
   "metadata": {},
   "outputs": [],
   "source": [
    "int('CharIn10')"
   ]
  },
  {
   "cell_type": "code",
   "execution_count": null,
   "metadata": {},
   "outputs": [],
   "source": [
    "myNewString = 'text1 '+ 20 + ' text2'"
   ]
  },
  {
   "cell_type": "code",
   "execution_count": null,
   "metadata": {},
   "outputs": [],
   "source": [
    "myNewString = 'text1 '+ str(20) + ' text2'\n",
    "print(myNewString)"
   ]
  },
  {
   "cell_type": "markdown",
   "metadata": {},
   "source": [
    "Convert,<br/>\n",
    "1> list to set<br/>\n",
    "2> String to list"
   ]
  },
  {
   "cell_type": "code",
   "execution_count": null,
   "metadata": {},
   "outputs": [],
   "source": [
    "# 1> list to set\n",
    "myList1 = ['a','b','c','c']\n",
    "print(myList1)\n",
    "print(type(myList1))\n",
    "mySet1 = set(myList1)\n",
    "print(type(mySet1))\n",
    "print(mySet1)"
   ]
  },
  {
   "cell_type": "code",
   "execution_count": null,
   "metadata": {},
   "outputs": [],
   "source": [
    "# 2> String to list\n",
    "myString1 = 'This is string to list'\n",
    "print(type(myString1))\n",
    "\n",
    "strToList = list(myString1)\n",
    "print(type(strToList))\n",
    "print(strToList)"
   ]
  },
  {
   "cell_type": "code",
   "execution_count": null,
   "metadata": {},
   "outputs": [],
   "source": []
  },
  {
   "cell_type": "code",
   "execution_count": null,
   "metadata": {},
   "outputs": [],
   "source": []
  },
  {
   "cell_type": "code",
   "execution_count": null,
   "metadata": {},
   "outputs": [],
   "source": []
  },
  {
   "cell_type": "code",
   "execution_count": null,
   "metadata": {},
   "outputs": [],
   "source": []
  }
 ],
 "metadata": {
  "kernelspec": {
   "display_name": "Python 3",
   "language": "python",
   "name": "python3"
  },
  "language_info": {
   "codemirror_mode": {
    "name": "ipython",
    "version": 3
   },
   "file_extension": ".py",
   "mimetype": "text/x-python",
   "name": "python",
   "nbconvert_exporter": "python",
   "pygments_lexer": "ipython3",
   "version": "3.7.3"
  }
 },
 "nbformat": 4,
 "nbformat_minor": 2
}
